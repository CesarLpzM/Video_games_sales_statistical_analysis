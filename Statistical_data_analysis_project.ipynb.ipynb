{
  "cells": [
    {
      "cell_type": "markdown",
      "source": [
        "## Introducción"
      ],
      "metadata": {
        "id": "EIFjOgmALNWj"
      }
    },
    {
      "cell_type": "markdown",
      "source": [
        "La tienda online **Ice**, dedicada a la venta global de videojuegos, busca aprovechar datos de reseñas de usuarios y expertos, géneros, plataformas y registros históricos de ventas para optimizar sus decisiones comerciales. El objetivo del proyecto es **identificar patrones que permitan predecir el éxito de un videojuego**, con el fin de reconocer proyectos prometedores y planificar campañas publicitarias más efectivas.\n"
      ],
      "metadata": {
        "id": "K-LQg0IkLRq5"
      }
    },
    {
      "cell_type": "markdown",
      "metadata": {
        "tags": [
          "e5c1f0c2-db9f-43a0-99b9-4875c52427e8"
        ],
        "id": "B1WDG2PtKJ3i"
      },
      "source": [
        "Paso 1: Cargamos las librerias y abrimos el archivo de datos"
      ]
    },
    {
      "cell_type": "code",
      "execution_count": null,
      "metadata": {
        "id": "r2S4HfrzKJ3j"
      },
      "outputs": [],
      "source": [
        "# Cargamos las librerias que vamos a utilizar.\n",
        "\n",
        "import pandas as pd\n",
        "import numpy as np\n",
        "import math as mt\n",
        "import seaborn as sns\n",
        "from scipy import stats as st\n",
        "from matplotlib import pyplot as plt\n",
        "\n",
        "\n",
        "\n",
        "# Cargamos el archivo y creamos el DataFrame 'games' con los datos de este.\n",
        "games = pd.read_csv('/datasets/games.csv')"
      ]
    },
    {
      "cell_type": "markdown",
      "metadata": {
        "id": "6TSF6vuZKJ3k"
      },
      "source": [
        "Paso 2: Preparamos los datos"
      ]
    },
    {
      "cell_type": "code",
      "execution_count": null,
      "metadata": {
        "id": "Fnzsf1_vKJ3k",
        "outputId": "cac98286-0a02-43d4-d01a-e1bb0f25ce11"
      },
      "outputs": [
        {
          "name": "stdout",
          "output_type": "stream",
          "text": [
            "<class 'pandas.core.frame.DataFrame'>\n",
            "RangeIndex: 16715 entries, 0 to 16714\n",
            "Data columns (total 11 columns):\n",
            " #   Column           Non-Null Count  Dtype  \n",
            "---  ------           --------------  -----  \n",
            " 0   Name             16713 non-null  object \n",
            " 1   Platform         16715 non-null  object \n",
            " 2   Year_of_Release  16446 non-null  float64\n",
            " 3   Genre            16713 non-null  object \n",
            " 4   NA_sales         16715 non-null  float64\n",
            " 5   EU_sales         16715 non-null  float64\n",
            " 6   JP_sales         16715 non-null  float64\n",
            " 7   Other_sales      16715 non-null  float64\n",
            " 8   Critic_Score     8137 non-null   float64\n",
            " 9   User_Score       10014 non-null  object \n",
            " 10  Rating           9949 non-null   object \n",
            "dtypes: float64(6), object(5)\n",
            "memory usage: 1.4+ MB\n",
            "None\n",
            "                                                    Name Platform  \\\n",
            "6768                                  Hitman: Absolution       PC   \n",
            "14109                      Kuroshitsuji: Phantom & Ghost       DS   \n",
            "1407                            Bakugan: Battle Brawlers       DS   \n",
            "2012           The Legend of Zelda: Twilight Princess HD     WiiU   \n",
            "8428      Bakugan Battle Brawlers: Defenders of the Core      PS3   \n",
            "13734                      Star Trek: Shattered Universe       XB   \n",
            "3979                                           RPG Maker       PS   \n",
            "6248   Moero! Nekketsu Rhythm Damashii: Osu! Tatakae!...       DS   \n",
            "5552                                        Chicken Riot      Wii   \n",
            "7010                              Colony Wars: Vengeance       PS   \n",
            "\n",
            "       Year_of_Release         Genre  NA_sales  EU_sales  JP_sales  \\\n",
            "6768            2012.0        Action      0.03      0.17      0.00   \n",
            "14109           2009.0        Action      0.00      0.00      0.04   \n",
            "1407            2009.0        Action      1.26      0.02      0.00   \n",
            "2012            2016.0        Action      0.56      0.30      0.08   \n",
            "8428            2010.0        Action      0.14      0.01      0.00   \n",
            "13734           2004.0    Simulation      0.03      0.01      0.00   \n",
            "3979            1997.0  Role-Playing      0.11      0.07      0.29   \n",
            "6248            2007.0          Misc      0.00      0.00      0.27   \n",
            "5552            2010.0        Action      0.14      0.15      0.00   \n",
            "7010            1998.0    Simulation      0.13      0.09      0.00   \n",
            "\n",
            "       Other_sales  Critic_Score User_Score Rating  \n",
            "6768          0.04          79.0          7      M  \n",
            "14109         0.00           NaN        NaN    NaN  \n",
            "1407          0.10          60.0        6.7      E  \n",
            "2012          0.09          86.0        8.4      T  \n",
            "8428          0.02          50.0        tbd   E10+  \n",
            "13734         0.00          41.0          4      E  \n",
            "3979          0.03          66.0        8.2      E  \n",
            "6248          0.00           NaN        NaN    NaN  \n",
            "5552          0.03           NaN        tbd      T  \n",
            "7010          0.02           NaN        NaN    NaN  \n",
            "\n",
            "La media del año de lanzamiento es: 2006.49\n",
            "La mediana del año de lanzamiento es: 2007.00\n",
            "\n",
            "La media de la calificación de los críticos es: 68.97\n",
            "La mediana de la calificación de los críticos es: 71.00\n",
            "\n",
            "La media de la calificación de los usuarios es: 5.40\n",
            "La mediana de la calificación de los ususarios es: 6.90\n",
            "<class 'pandas.core.frame.DataFrame'>\n",
            "Int64Index: 16713 entries, 0 to 16714\n",
            "Data columns (total 12 columns):\n",
            " #   Column           Non-Null Count  Dtype  \n",
            "---  ------           --------------  -----  \n",
            " 0   name             16713 non-null  object \n",
            " 1   platform         16713 non-null  object \n",
            " 2   year_of_release  16713 non-null  int64  \n",
            " 3   genre            16713 non-null  object \n",
            " 4   na_sales         16713 non-null  float64\n",
            " 5   eu_sales         16713 non-null  float64\n",
            " 6   jp_sales         16713 non-null  float64\n",
            " 7   other_sales      16713 non-null  float64\n",
            " 8   critic_score     16713 non-null  float64\n",
            " 9   user_score       16713 non-null  float64\n",
            " 10  rating           16713 non-null  object \n",
            " 11  total_sales      16713 non-null  float64\n",
            "dtypes: float64(7), int64(1), object(4)\n",
            "memory usage: 1.7+ MB\n",
            "None\n",
            "                                                  name platform  \\\n",
            "2748                                         Band Hero      PS3   \n",
            "9713           The King of Fighters '98 Ultimate Match      PS2   \n",
            "15423  Katekyoo Hitman Reborn! Dream Hyper Battle! Wii      Wii   \n",
            "15469   Joker no Kuni no Alice: Wonderful Wonder World      PSP   \n",
            "9121                                        Project V6       PS   \n",
            "1894                              Imagine: Babysitters       DS   \n",
            "12138                   Ultimate Board Game Collection      PSP   \n",
            "11791                                         Futurama      PS2   \n",
            "13017                                       Powerdrome      PS2   \n",
            "4117                                            NHL 16     XOne   \n",
            "3080                 Brothers In Arms: Road to Hill 30       XB   \n",
            "5336                                Tomb Raider (2013)       PC   \n",
            "3287                    Dora the Explorer: Super Spies      GBA   \n",
            "892                                   Mortal Kombat II     SNES   \n",
            "5758                          Goemon's Great Adventure      N64   \n",
            "\n",
            "       year_of_release       genre  na_sales  eu_sales  jp_sales  other_sales  \\\n",
            "2748              2009        Misc      0.41      0.23      0.00         0.11   \n",
            "9713              2008    Fighting      0.04      0.03      0.03         0.01   \n",
            "15423             2008    Fighting      0.00      0.00      0.02         0.00   \n",
            "15469             2011   Adventure      0.00      0.00      0.02         0.00   \n",
            "9121              1998    Strategy      0.00      0.00      0.13         0.01   \n",
            "1894              2008  Simulation      0.63      0.35      0.00         0.10   \n",
            "12138             2007        Misc      0.06      0.00      0.00         0.01   \n",
            "11791             2003    Platform      0.04      0.03      0.00         0.01   \n",
            "13017             2004      Racing      0.03      0.02      0.00         0.01   \n",
            "4117              2015      Sports      0.38      0.05      0.00         0.05   \n",
            "3080              2005     Shooter      0.49      0.14      0.00         0.02   \n",
            "5336              2006      Action      0.06      0.25      0.00         0.04   \n",
            "3287              2004    Platform      0.44      0.16      0.00         0.01   \n",
            "892               1993    Fighting      1.48      0.39      0.00         0.06   \n",
            "5758              1998    Platform      0.06      0.02      0.13         0.10   \n",
            "\n",
            "       critic_score  user_score rating  total_sales  \n",
            "2748      76.000000     5.70000   E10+         0.75  \n",
            "9713      68.967679     5.40035   none         0.11  \n",
            "15423     68.967679     5.40035   none         0.02  \n",
            "15469     68.967679     5.40035   none         0.02  \n",
            "9121      68.967679     5.40035   none         0.14  \n",
            "1894      68.967679     0.00000      E         1.08  \n",
            "12138     57.000000     0.00000      E         0.07  \n",
            "11791     59.000000     6.60000      T         0.08  \n",
            "13017     54.000000     0.00000      T         0.06  \n",
            "4117      80.000000     6.00000   E10+         0.48  \n",
            "3080      88.000000     8.00000      M         0.65  \n",
            "5336      86.000000     8.50000      M         0.35  \n",
            "3287      68.967679     8.00000      E         0.61  \n",
            "892       68.967679     5.40035   none         1.93  \n",
            "5758      68.967679     5.40035   none         0.31  \n"
          ]
        }
      ],
      "source": [
        "# Mostramos la información general/resumida sobre el DataFrame de los videojuegos para analizarla.\n",
        "\n",
        "print(games.info())\n",
        "print(games.sample(10))\n",
        "\n",
        "\n",
        "# Convertimos los nombres de las columna en minúsculas de acuerdo con las reglas del buen estilo.\n",
        "\n",
        "new_col_name = []\n",
        "\n",
        "for old_name in games.columns:\n",
        "    low_name = old_name.lower()\n",
        "    new_col_name.append(low_name)\n",
        "\n",
        "games.columns = new_col_name\n",
        "\n",
        "\n",
        "# Como los valores de las columnas 'name', 'genre' y son necesarios para el análisis\n",
        "# y además como son valores categóricos, no les podemos asignar valores representativos. Por\n",
        "# las anteriores razones, eh decidido retirar las filas que tengan valores ausentes en estas\n",
        "# columnas, del DataFrame. Probablemente hay valores ausentes en estas columnas porque hubo\n",
        "# un error al momento de crearce el archivo games.\n",
        "\n",
        "games.dropna(subset=['name'], inplace=True)\n",
        "games.dropna(subset=['genre'], inplace=True)\n",
        "\n",
        "\n",
        "# Para definir con que valores sustituir los valores ausentes en la columna 'year_of_release',\n",
        "# veremos si hay valores atípicos. Probablemente hay valores ausentes en esta columna porque\n",
        "# se desconocía el año de lanzamiento.\n",
        "\n",
        "avg_games_yor = games['year_of_release'].mean()\n",
        "median_games_yor = games['year_of_release'].median()\n",
        "\n",
        "print()\n",
        "print(f\"La media del año de lanzamiento es: {avg_games_yor:.2f}\")\n",
        "print(f\"La mediana del año de lanzamiento es: {median_games_yor:.2f}\")\n",
        "\n",
        "\n",
        "# Como no hay gran diferenia entre la media y la mediana de los valores de la columna\n",
        "# 'year_of_release' podemos concluir que no hay valores atípicos en esta, por lo que\n",
        "# rellenaré los valores ausentes de la columna anterior, con la media de la misma.\n",
        "\n",
        "games['year_of_release'].fillna(avg_games_yor, inplace=True)\n",
        "\n",
        "\n",
        "# Como no hace sentido tener fracciones de años, vamos a convertir los valores de la columna\n",
        "# 'year_of_release' a enteros.\n",
        "\n",
        "games['year_of_release'] = games['year_of_release'].astype('int')\n",
        "\n",
        "\n",
        "# Para definir con que valores sustituir los valores ausentes en la columna 'critic_score',\n",
        "# veremos si hay valores atípicos. Probablemente hay valores ausentes en esta columna porque\n",
        "# no todos los videojuegos fueron evaluados por los críticos.\n",
        "\n",
        "avg_games_critic_score = games['critic_score'].mean()\n",
        "median_games_critic_score = games['critic_score'].median()\n",
        "\n",
        "print()\n",
        "print(f\"La media de la calificación de los críticos es: {avg_games_critic_score:.2f}\")\n",
        "print(f\"La mediana de la calificación de los críticos es: {median_games_critic_score:.2f}\")\n",
        "\n",
        "\n",
        "# Como no hay gran diferenia entre la media y la mediana de los valores de la columna\n",
        "# 'critic_socre' podemos concluir que no hay valores atípicos en esta, por lo que\n",
        "# rellenaré los valores ausentes de la columna anterior, con la media de la misma.\n",
        "\n",
        "games['critic_score'].fillna(avg_games_critic_score, inplace=True)\n",
        "\n",
        "\n",
        "# Para reemplazar los valores ausentes en la columna 'user_score' primero necesitamos convertilos\n",
        "# a números enteros y para eso primero necesitamos reemplazar 'tbd' por '0'. Probablemente hay\n",
        "# valores ausentes en esta columna porque no todos los videojuegos fueron evaluados por los\n",
        "# usuarios.\n",
        "\n",
        "games['user_score'] = games['user_score'].replace('tbd', '0')\n",
        "games['user_score'] = pd.to_numeric(games['user_score'], errors='coerce')\n",
        "\n",
        "\n",
        "# Para definir con que valores sustituir los valores ausentes en la columna 'user_score',\n",
        "# veremos si hay valores atípicos.\n",
        "\n",
        "avg_games_user_score = games['user_score'].mean()\n",
        "median_games_user_score = games['user_score'].median()\n",
        "\n",
        "print()\n",
        "print(f\"La media de la calificación de los usuarios es: {avg_games_user_score:.2f}\")\n",
        "print(f\"La mediana de la calificación de los ususarios es: {median_games_user_score:.2f}\")\n",
        "\n",
        "\n",
        "# Como no hay gran diferenia entre la media y la mediana de los valores de la columna\n",
        "# 'user_socre' podemos concluir que no hay valores atípicos en esta, por lo que\n",
        "# rellenaré los valores ausentes de la columna anterior, con la media de la misma.\n",
        "\n",
        "games['user_score'].fillna(avg_games_user_score, inplace=True)\n",
        "\n",
        "\n",
        "# Como las calificaciones en la columna 'rating' son categóricas, no podremos reemplazar los\n",
        "# valores ausentes por valores representativos, por lo tanto los valores ausentes de esta columna\n",
        "# se reemplazaran por 'none'. Probablemente hay valores ausentes en esta columna porque no todos\n",
        "# los videojuegos fueron evaluados por la ESRB.\n",
        "\n",
        "games['rating'].fillna('none', inplace=True)\n",
        "\n",
        "\n",
        "# Calculamos las ventas totales de los videojuegos y las colocamos en la columna 'total_sales'.\n",
        "\n",
        "games['total_sales'] = (games['na_sales']+games['eu_sales']+games['jp_sales']+games['other_sales'])\n",
        "\n",
        "print(games.info())\n",
        "print(games.sample(15))"
      ]
    },
    {
      "cell_type": "markdown",
      "metadata": {
        "id": "-C4e_AJ_KJ3l"
      },
      "source": [
        "Comentario del paso 2:\n",
        "Primero vimos la infromación general y una muestra del DataFrame para decidir que cambios eran necesarios hacer para preparar los datos.\n",
        "Durante el paso 2 cambiamos el nombre de las columnas para que estas cumplan con el formato del buen estilo, después eliminamos las filas con valores ausentes en las columnas nombre y género, seguido rellenamos los valores ausentes en el resto de las columnas con valores representativos de las mismas y finalmente calculamos las ventas totales de cada videojuego."
      ]
    },
    {
      "cell_type": "markdown",
      "metadata": {
        "id": "m72cqqUuKJ3m"
      },
      "source": [
        "Paso 3: Analizamos los datos"
      ]
    },
    {
      "cell_type": "markdown",
      "metadata": {
        "id": "ehm80Ne0KJ3m"
      },
      "source": [
        "Lanzamientos de videojuegos por año"
      ]
    },
    {
      "cell_type": "code",
      "execution_count": null,
      "metadata": {
        "id": "FMNLT5tBKJ3m",
        "outputId": "928e075d-03ec-4c4e-d36c-2f5507c350f5"
      },
      "outputs": [
        {
          "data": {
            "image/png": "[encoded data removed]",
            "text/plain": [
              "<Figure size 1000x500 with 1 Axes>"
            ]
          },
          "metadata": {},
          "output_type": "display_data"
        }
      ],
      "source": [
        "# Agupamos el DataFrame 'games' por año de lanzamiento y creamos una columna con la cantidad de\n",
        "# juegos lanzados en cada año.\n",
        "\n",
        "games_release_year = (games\n",
        "                     .groupby('year_of_release', as_index = False)\n",
        "                     .agg(no_release_year = ('year_of_release', 'count'))\n",
        "                     )\n",
        "\n",
        "\n",
        "# Presentamos la cantidad de juegos lanzados por año en un gráfico de barras.\n",
        "\n",
        "plt.figure(figsize=(10,5))\n",
        "plt.bar(games_release_year['year_of_release'], games_release_year['no_release_year'], color='blue')\n",
        "plt.title('Lanzamientos de videojuegos por año')\n",
        "plt.xlabel('Año')\n",
        "plt.ylabel('Cantidad')\n",
        "plt.show()"
      ]
    },
    {
      "cell_type": "markdown",
      "metadata": {
        "id": "3rF38kfdKJ3m"
      },
      "source": [
        "Comentarios de los lanzamientos de videojuegos por año:\n",
        "El boom de creación de nuevo juegos fue alrededor del 2008, siendo los años 2008 y 2009 en los que más nuevos juegos se lanzaron."
      ]
    },
    {
      "cell_type": "markdown",
      "metadata": {
        "id": "mUW3VKUYKJ3m"
      },
      "source": [
        "Ventas totales por plataforma y año"
      ]
    },
    {
      "cell_type": "code",
      "execution_count": null,
      "metadata": {
        "scrolled": true,
        "id": "GYPA_rPqKJ3n",
        "outputId": "d6290942-fd3c-4971-9cb6-8e34a2ff4504"
      },
      "outputs": [
        {
          "data": {
            "image/png": "[encoded data removed]",
            "text/plain": [
              "<Figure size 1000x500 with 1 Axes>"
            ]
          },
          "metadata": {},
          "output_type": "display_data"
        },
        {
          "data": {
            "image/png": "[encoded data removed]",
            "text/plain": [
              "<Figure size 1000x500 with 1 Axes>"
            ]
          },
          "metadata": {},
          "output_type": "display_data"
        }
      ],
      "source": [
        "# Agrupamos el DataFrame 'games' por plataforma y creamos una columna con las ventas totales\n",
        "# por plataforma.\n",
        "\n",
        "platform_total_sales = (games\n",
        "                       .groupby('platform', as_index=False)\n",
        "                       .agg(total_sales_platform = ('total_sales', 'sum'))\n",
        "                       )\n",
        "\n",
        "\n",
        "# Ordenamos el DataFrame anterior de porfa ascendente.\n",
        "\n",
        "platform_total_sales = platform_total_sales.sort_values(by='total_sales_platform', ascending=True)\n",
        "\n",
        "\n",
        "# Presentamos las ventas totales de cada plataforma en un gráfico de barras.\n",
        "\n",
        "plt.figure(figsize=(10,5))\n",
        "plt.barh(platform_total_sales['platform'], platform_total_sales['total_sales_platform'], color='blue')\n",
        "plt.title('Ventas totales por plataforma')\n",
        "plt.xlabel('Ventas [MUSD]')\n",
        "plt.ylabel('Platform')\n",
        "plt.show()\n",
        "\n",
        "\n",
        "# Agrupamos el DataFrame 'games' por plataforma y año de lanzamiento y creamos una columna con\n",
        "# las ventas totales en cada año.\n",
        "\n",
        "platform_total_sales_year = (games\n",
        "                            .groupby(['platform', 'year_of_release'], as_index = False)\n",
        "                            .agg(total_sales_year = ('total_sales', 'sum'))\n",
        "                            )\n",
        "\n",
        "\n",
        "# Filtramos el DataFrame anterior por el top 4 de plataformas que vimos en el gráfico de barras\n",
        "# y por el periodo donde vemos mayores ventas en dichas plataformas (2000 - 2015).\n",
        "\n",
        "top_platforms = ['PS2','X360','PS3','Wii']\n",
        "top_platforms_sales_period = platform_total_sales_year[platform_total_sales_year['platform'].isin(top_platforms)]\n",
        "top_platforms_sales_period = top_platforms_sales_period.reset_index(drop=True)\n",
        "\n",
        "best_years = [2000,2001,2002,2003,2004,2005,2006,2007,2008,2009,2010,2011,2012,2013,2014,2015]\n",
        "top_platforms_sales_period = top_platforms_sales_period[top_platforms_sales_period['year_of_release'].isin(best_years)]\n",
        "top_platforms_sales_period = top_platforms_sales_period.reset_index(drop=True)\n",
        "\n",
        "\n",
        "# Presentamos el comportamiento de las ventas del top 4 de las plataformas, a lo largo del\n",
        "# periodo de tiempo seleccionado.\n",
        "\n",
        "sells_ps2 = top_platforms_sales_period[top_platforms_sales_period['platform']=='PS2']['total_sales_year']\n",
        "years_ps2 = top_platforms_sales_period[top_platforms_sales_period['platform']=='PS2']['year_of_release']\n",
        "sells_x360 = top_platforms_sales_period[top_platforms_sales_period['platform']=='X360']['total_sales_year']\n",
        "years_x360 = top_platforms_sales_period[top_platforms_sales_period['platform']=='X360']['year_of_release']\n",
        "sells_ps3 = top_platforms_sales_period[top_platforms_sales_period['platform']=='PS3']['total_sales_year']\n",
        "years_ps3 = top_platforms_sales_period[top_platforms_sales_period['platform']=='PS3']['year_of_release']\n",
        "sells_wii = top_platforms_sales_period[top_platforms_sales_period['platform']=='Wii']['total_sales_year']\n",
        "years_wii = top_platforms_sales_period[top_platforms_sales_period['platform']=='Wii']['year_of_release']\n",
        "\n",
        "plt.figure(figsize=(10,5))\n",
        "plt.bar(years_ps2, sells_ps2, color='blue', label='PS2', alpha=0.6)\n",
        "plt.bar(years_x360, sells_x360, color='yellow', label='X360', alpha=0.6)\n",
        "plt.bar(years_ps3, sells_ps3, color='red', label='PS3', alpha=0.6)\n",
        "plt.bar(years_wii, sells_wii, color='gray', label='Wii', alpha=0.6)\n",
        "plt.title('Ventas anuales Top 4 plataformas')\n",
        "plt.xlabel('Año')\n",
        "plt.ylabel('[MUSD]')\n",
        "plt.legend(loc = 'upper right')\n",
        "plt.show()"
      ]
    },
    {
      "cell_type": "markdown",
      "metadata": {
        "id": "jk3M10q_KJ3n"
      },
      "source": [
        "Comentarios de las ventas totales por plataforma y año:\n",
        "Primero quisimos conocer las ventas totales por plataforma y descubrimos que el top 4 son:\n",
        "PS2, X360, PS3 y Wii.\n",
        "Podemos ver del segundo gráfico que PS2 obtuvo ventas del 2000 al 2009, siendo el pico mas alto en el 2004.\n",
        "X360 obtuvo ventas del 2005 al 2015, siendo el pico más alto en el 2010.\n",
        "PS3 obtuvo ventas del 2006 al 2015, siendo su pico más alto en el 2011\n",
        "Y Wii obtuvo ventas del 2005 al 2014, siendo su pico más alto en el 2009.\n",
        "Tambien podemos elegir los años con los cuales deberiamos de trabajar, aunque consideramos datos desde 1995, a partir del 2000 hubieron ventas de las principales platafromas y aparentemente hasta el 2015 siguieron teniendo gran exito. Por lo que los años que utilizaremos para los siguientes análisis son del 2000 al 2015.\n"
      ]
    },
    {
      "cell_type": "code",
      "execution_count": null,
      "metadata": {
        "scrolled": true,
        "id": "3Fep8VeEKJ3n",
        "outputId": "929fc23a-ae58-4546-d137-74a58513ac67"
      },
      "outputs": [
        {
          "name": "stdout",
          "output_type": "stream",
          "text": [
            "Media ventas totales PS2: 0.58\n",
            "Media ventas totales X360: 0.78\n",
            "Media ventas totales PS3: 0.72\n",
            "Media ventas totales Wii: 0.69\n"
          ]
        },
        {
          "data": {
            "image/png": "[encoded data removed]",
            "text/plain": [
              "<Figure size 1000x1500 with 1 Axes>"
            ]
          },
          "metadata": {},
          "output_type": "display_data"
        }
      ],
      "source": [
        "#Graficamos las ventas totales de todos los videojuegos, desglosados por el top 4 de las\n",
        "# plataformas. Y mostramos las medias de las mismas.\n",
        "\n",
        "platform_individual_sales = games[games['year_of_release'].isin(best_years)]\n",
        "platform_individual_sales = platform_individual_sales[platform_individual_sales['platform'].isin(top_platforms)]\n",
        "platform_individual_sales = platform_individual_sales.reset_index(drop=True)\n",
        "\n",
        "ps2_avg_sales = platform_individual_sales[platform_individual_sales['platform']=='PS2']['total_sales'].mean()\n",
        "print(f\"Media ventas totales PS2: {ps2_avg_sales:.2f}\")\n",
        "x360_avg_sales = platform_individual_sales[platform_individual_sales['platform']=='X360']['total_sales'].mean()\n",
        "print(f\"Media ventas totales X360: {x360_avg_sales:.2f}\")\n",
        "ps3_avg_sales = platform_individual_sales[platform_individual_sales['platform']=='PS3']['total_sales'].mean()\n",
        "print(f\"Media ventas totales PS3: {ps3_avg_sales:.2f}\")\n",
        "wii_avg_sales = platform_individual_sales[platform_individual_sales['platform']=='Wii']['total_sales'].mean()\n",
        "print(f\"Media ventas totales Wii: {wii_avg_sales:.2f}\")\n",
        "\n",
        "\n",
        "plt.figure(figsize=(10, 15))\n",
        "sns.boxplot(x='platform', y='total_sales', data=platform_individual_sales)\n",
        "plt.title(\"Ventas totales top 4 plataformas (2000 - 2015)\")\n",
        "plt.ylabel(\"MUSD\")\n",
        "plt.grid(True, linestyle=\"--\", alpha=0.5)\n",
        "plt.show()\n"
      ]
    },
    {
      "cell_type": "markdown",
      "metadata": {
        "id": "jv2ggNwoKJ3n"
      },
      "source": [
        "Comentarios de los gráficos de caja y las medias del top 4 plataformas:\n",
        "La plataforma con mayores ventas en promedio es X360, mientras que PS2 es la plataforma con la menor media de ventas totales.\n",
        "Las distribuciones de las ventas totales de cada plataforma son similares y totdas tienen \"Outliers\" que pienso son debido a los juegos que representaron un pico de ventas muy por encima de la mediana y la media. La plataforma Wii es la que tiene \"Outliers\" más grandes que el resto."
      ]
    },
    {
      "cell_type": "markdown",
      "metadata": {
        "id": "f_5XIXl0KJ3o"
      },
      "source": [
        "Relación de ventas totales con calificaciones (X360)"
      ]
    },
    {
      "cell_type": "code",
      "execution_count": null,
      "metadata": {
        "scrolled": true,
        "id": "YGmnY9avKJ3o",
        "outputId": "cff370e3-a8ee-475b-bc1e-9405bc0bb866"
      },
      "outputs": [
        {
          "data": {
            "image/png": "[encoded data removed]",
            "text/plain": [
              "<Figure size 1000x500 with 1 Axes>"
            ]
          },
          "metadata": {},
          "output_type": "display_data"
        },
        {
          "name": "stdout",
          "output_type": "stream",
          "text": [
            "             user_score  total_sales\n",
            "user_score     1.000000     0.175762\n",
            "total_sales    0.175762     1.000000\n"
          ]
        },
        {
          "data": {
            "image/png": "[encoded data removed]",
            "text/plain": [
              "<Figure size 1000x500 with 1 Axes>"
            ]
          },
          "metadata": {},
          "output_type": "display_data"
        },
        {
          "name": "stdout",
          "output_type": "stream",
          "text": [
            "              critic_score  total_sales\n",
            "critic_score      1.000000     0.375313\n",
            "total_sales       0.375313     1.000000\n"
          ]
        }
      ],
      "source": [
        "# Presentamos gráficos de dispersión para las ventas totales vs calificaciones de usuarios y\n",
        "# ventas totales vs calificaciones de los críticos. Y mostramos matrices de correlación.\n",
        "\n",
        "x360_individual_sales = platform_individual_sales[platform_individual_sales['platform']=='X360']\n",
        "\n",
        "plt.figure(figsize=(10, 5))\n",
        "plt.scatter(x360_individual_sales[\"user_score\"], x360_individual_sales[\"total_sales\"])\n",
        "plt.title(\"Relación entre calificación de usuarios y ventas totales (X360)\")\n",
        "plt.xlabel(\"Calificaciones\")\n",
        "plt.ylabel(\"Ventas\")\n",
        "plt.grid(alpha=0.5)\n",
        "plt.show()\n",
        "\n",
        "x360_user_vs_sales = x360_individual_sales.drop(columns = ['name','platform','year_of_release','genre','na_sales','eu_sales','jp_sales','other_sales','critic_score','rating'])\n",
        "corr_matrix = x360_user_vs_sales.corr()\n",
        "print(corr_matrix)\n",
        "\n",
        "\n",
        "plt.figure(figsize=(10, 5))\n",
        "plt.scatter(x360_individual_sales[\"critic_score\"], x360_individual_sales[\"total_sales\"])\n",
        "plt.title(\"Relación entre calificación de críticos y ventas totales (X360)\")\n",
        "plt.xlabel(\"Calificaciones\")\n",
        "plt.ylabel(\"Ventas\")\n",
        "plt.grid(alpha=0.5)\n",
        "plt.show()\n",
        "\n",
        "x360_critic_vs_sales = x360_individual_sales.drop(columns = ['name','platform','year_of_release','genre','na_sales','eu_sales','jp_sales','other_sales','user_score','rating'])\n",
        "corr_matrix_2 = x360_critic_vs_sales.corr()\n",
        "print(corr_matrix_2)"
      ]
    },
    {
      "cell_type": "markdown",
      "metadata": {
        "id": "E2B51f_zKJ3o"
      },
      "source": [
        "Comentarios de correlaciones:\n",
        "Podemos apreciar que la correlación entre las ventas totales y las calificaciones de los críticos es mucho mayor que la de las ventas totales y las calificaciones de los usuarios. Por lo que la opinión de los críticos tiene un mayor peso en la decisión de compra de los usuarios."
      ]
    },
    {
      "cell_type": "markdown",
      "metadata": {
        "id": "if7ixzaeKJ3o"
      },
      "source": [
        "Comparación del top 5 videojuegos X360 vs top 4 plataformas"
      ]
    },
    {
      "cell_type": "code",
      "execution_count": null,
      "metadata": {
        "id": "zoIlU1GtKJ3o",
        "outputId": "91271053-896d-4f09-9293-803f05b46c23"
      },
      "outputs": [
        {
          "name": "stdout",
          "output_type": "stream",
          "text": [
            "Top 5 videojuegos x360\n",
            "                             name  total_sales\n",
            "0              Kinect Adventures!        21.82\n",
            "1              Grand Theft Auto V        16.27\n",
            "2  Call of Duty: Modern Warfare 3        14.73\n",
            "3         Call of Duty: Black Ops        14.62\n",
            "4      Call of Duty: Black Ops II        13.68\n",
            "\n",
            "Esos mismos juegos no existen en PS2\n",
            "Empty DataFrame\n",
            "Columns: [name, total_sales]\n",
            "Index: []\n",
            "\n",
            "Top 5 videjuegos x360 en PS3\n",
            "                             name  total_sales\n",
            "0              Grand Theft Auto V        21.05\n",
            "1      Call of Duty: Black Ops II        13.79\n",
            "2  Call of Duty: Modern Warfare 3        13.33\n",
            "3         Call of Duty: Black Ops        12.63\n",
            "\n",
            "Top 5 videjuegos x360 en Wii\n",
            "                             name  total_sales\n",
            "0         Call of Duty: Black Ops         1.37\n",
            "1  Call of Duty: Modern Warfare 3         0.83\n"
          ]
        }
      ],
      "source": [
        "# Averiguamos el top 5 de videjuegos vendidos en la plataforma X360.\n",
        "\n",
        "top_x360_games = (x360_individual_sales\n",
        "                  .groupby('name', as_index=False)['total_sales'].sum()\n",
        "                 )\n",
        "\n",
        "top_x360_games = top_x360_games.sort_values(by='total_sales', ascending=False)\n",
        "top_x360_games = top_x360_games.reset_index(drop=True)\n",
        "\n",
        "top_x360_games_list = ['Kinect Adventures!','Grand Theft Auto V','Call of Duty: Modern Warfare 3','Call of Duty: Black Ops','Call of Duty: Black Ops II']\n",
        "\n",
        "print(\"Top 5 videojuegos x360\")\n",
        "print(top_x360_games.head())\n",
        "\n",
        "\n",
        "# Mostramos las ventas del top 5 de videojuegos de X360, pero en PS2\n",
        "\n",
        "ps2_individual_sales = platform_individual_sales[platform_individual_sales['platform']=='PS2']\n",
        "\n",
        "list_ps2_games = (ps2_individual_sales\n",
        "                  .groupby('name', as_index=False)['total_sales'].sum()\n",
        "                 )\n",
        "\n",
        "list_ps2_games = list_ps2_games[list_ps2_games['name'].isin(top_x360_games_list)]\n",
        "list_ps2_games = list_ps2_games.sort_values(by='total_sales', ascending=False)\n",
        "list_ps2_games = list_ps2_games.reset_index(drop=True)\n",
        "\n",
        "print()\n",
        "print(\"Esos mismos juegos no existen en PS2\")\n",
        "print(list_ps2_games)\n",
        "\n",
        "\n",
        "# Mostramos las ventas del top 5 de videojuegos de X360, pero en PS3\n",
        "\n",
        "ps3_individual_sales = platform_individual_sales[platform_individual_sales['platform']=='PS3']\n",
        "\n",
        "list_ps3_games = (ps3_individual_sales\n",
        "                  .groupby('name', as_index=False)['total_sales'].sum()\n",
        "                 )\n",
        "\n",
        "list_ps3_games = list_ps3_games[list_ps3_games['name'].isin(top_x360_games_list)]\n",
        "list_ps3_games = list_ps3_games.sort_values(by='total_sales', ascending=False)\n",
        "list_ps3_games = list_ps3_games.reset_index(drop=True)\n",
        "\n",
        "print()\n",
        "print(\"Top 5 videjuegos x360 en PS3\")\n",
        "print(list_ps3_games)\n",
        "\n",
        "\n",
        "# Mostramos las ventas del top 5 de videojuegos de X360, pero en Wii\n",
        "\n",
        "wii_individual_sales = platform_individual_sales[platform_individual_sales['platform']=='Wii']\n",
        "\n",
        "list_wii_games = (wii_individual_sales\n",
        "                  .groupby('name', as_index=False)['total_sales'].sum()\n",
        "                 )\n",
        "\n",
        "list_wii_games = list_wii_games[list_wii_games['name'].isin(top_x360_games_list)]\n",
        "list_wii_games = list_wii_games.sort_values(by='total_sales', ascending=False)\n",
        "list_wii_games = list_wii_games.reset_index(drop=True)\n",
        "\n",
        "print()\n",
        "print(\"Top 5 videjuegos x360 en Wii\")\n",
        "print(list_wii_games)"
      ]
    },
    {
      "cell_type": "markdown",
      "metadata": {
        "id": "h7N1NpEbKJ3o"
      },
      "source": [
        "Comentarios de comparativa del top 5 videojuegos X360 vs top 4 plataformas:\n",
        "-Los juego más vendidos en X360 no estan disponibles para PS2.\n",
        "-El juego \"Kinect Adventures !\" no esta disponible en PS3 y en PS3 el juego más vendido del listado fue \"Grand Theft Auto V\".\n",
        "-La plataforma Wii solo comparte 2 uegos del listado y sus ventas no se comparan con las de X360."
      ]
    },
    {
      "cell_type": "markdown",
      "metadata": {
        "id": "_7JqOe_jKJ3p"
      },
      "source": [
        "Ventas por género"
      ]
    },
    {
      "cell_type": "code",
      "execution_count": null,
      "metadata": {
        "scrolled": true,
        "id": "0y-X1hlpKJ3p",
        "outputId": "dbd62ebb-fe5f-4502-8999-4faf0bd28ba6"
      },
      "outputs": [
        {
          "data": {
            "image/png": "[encoded data removed]",
            "text/plain": [
              "<Figure size 1500x500 with 1 Axes>"
            ]
          },
          "metadata": {},
          "output_type": "display_data"
        },
        {
          "data": {
            "image/png": "[encoded data removed]",
            "text/plain": [
              "<Figure size 1500x500 with 1 Axes>"
            ]
          },
          "metadata": {},
          "output_type": "display_data"
        }
      ],
      "source": [
        "# Mostramos las ventas por género del Top 4 plataformas\n",
        "\n",
        "genre_sells = (platform_individual_sales\n",
        "               .groupby('genre', as_index=False)['total_sales'].sum()\n",
        "              )\n",
        "genre_sells = genre_sells.sort_values(by='total_sales', ascending=False)\n",
        "genre_sells = genre_sells.reset_index(drop=True)\n",
        "\n",
        "plt.figure(figsize=(15, 5))\n",
        "plt.bar(genre_sells[\"genre\"], genre_sells[\"total_sales\"], color='gray')\n",
        "plt.title(\"Ventas totales Top 4 plataformas por género\")\n",
        "plt.xlabel(\"Género\")\n",
        "plt.ylabel(\"Ventas [MUSD]\")\n",
        "plt.show()\n",
        "\n",
        "\n",
        "# Ventas por género en X360\n",
        "\n",
        "x360_genre_sells = (x360_individual_sales\n",
        "               .groupby('genre', as_index=False)['total_sales'].sum()\n",
        "              )\n",
        "x360_genre_sells = x360_genre_sells.sort_values(by='total_sales', ascending=False)\n",
        "x360_genre_sells = x360_genre_sells.reset_index(drop=True)\n",
        "\n",
        "\n",
        "# Ventas por género en PS3\n",
        "\n",
        "ps3_genre_sells = (ps3_individual_sales\n",
        "               .groupby('genre', as_index=False)['total_sales'].sum()\n",
        "              )\n",
        "ps3_genre_sells = ps3_genre_sells.sort_values(by='total_sales', ascending=False)\n",
        "ps3_genre_sells = ps3_genre_sells.reset_index(drop=True)\n",
        "\n",
        "\n",
        "# Ventas por género en PS2\n",
        "\n",
        "ps2_genre_sells = (ps2_individual_sales\n",
        "               .groupby('genre', as_index=False)['total_sales'].sum()\n",
        "              )\n",
        "ps2_genre_sells = ps2_genre_sells.sort_values(by='total_sales', ascending=False)\n",
        "ps2_genre_sells = ps2_genre_sells.reset_index(drop=True)\n",
        "\n",
        "\n",
        "# Ventas por género en Wii\n",
        "\n",
        "wii_genre_sells = (wii_individual_sales\n",
        "               .groupby('genre', as_index=False)['total_sales'].sum()\n",
        "              )\n",
        "wii_genre_sells = wii_genre_sells.sort_values(by='total_sales', ascending=False)\n",
        "wii_genre_sells = wii_genre_sells.reset_index(drop=True)\n",
        "\n",
        "plt.figure(figsize=(15, 5))\n",
        "plt.bar(x360_genre_sells[\"genre\"], x360_genre_sells[\"total_sales\"], color='green', label='X360')\n",
        "plt.bar(ps3_genre_sells[\"genre\"], ps3_genre_sells[\"total_sales\"], color='red', label='PS3')\n",
        "plt.bar(ps2_genre_sells[\"genre\"], ps2_genre_sells[\"total_sales\"], color='yellow', label='PS2')\n",
        "plt.bar(wii_genre_sells[\"genre\"], wii_genre_sells[\"total_sales\"], color='blue', label='Wii')\n",
        "plt.title(\"Desglose ventas Top 4 plataformas por género\")\n",
        "plt.xlabel(\"Género\")\n",
        "plt.ylabel(\"Ventas [MUSD]\")\n",
        "plt.legend()\n",
        "plt.show()\n"
      ]
    },
    {
      "cell_type": "markdown",
      "metadata": {
        "id": "VTP6GF9nKJ3p"
      },
      "source": [
        "Comentarios de ventas por género:\n",
        "Si solo vemos las ventas por género del Top 4 de plataformas, el que más acumula ventas es \"Action\" sin embargo, al ver el desglose podemos confirmar que el género \"Shooter\" es el único que se juega en todas ellas. Cada plataforma tiene un género favorito; siendo Shooter en X360 y PS3, \"Action\" en PS2 y \"Sports\" en Wii."
      ]
    },
    {
      "cell_type": "markdown",
      "metadata": {
        "id": "xyRXDe5UKJ3p"
      },
      "source": [
        "Paso 4: Creamos un perfil de usuario para cada región."
      ]
    },
    {
      "cell_type": "code",
      "execution_count": null,
      "metadata": {
        "id": "17ODUBSCKJ3p",
        "outputId": "bdd44df8-af4e-48c3-f106-86c273350d67"
      },
      "outputs": [
        {
          "name": "stdout",
          "output_type": "stream",
          "text": [
            "Top 5 plataformas por región\n",
            "  na_platform  na_sales eu_platform  eu_sales jp_platform  jp_sales\n",
            "0        X360    602.47         PS2    339.29          DS    175.57\n",
            "1         PS2    583.84         PS3    330.29          PS    139.82\n",
            "2         Wii    496.90        X360    270.76         PS2    139.20\n",
            "3         PS3    393.49         Wii    262.21        SNES    116.55\n",
            "4          DS    382.40          PS    213.61         3DS    100.67\n",
            "\n",
            "Top 5 géneros por región\n",
            "   na_genre  na_sales eu_genre  eu_sales      jp_genre  jp_sales\n",
            "0    Action    879.01   Action    519.13  Role-Playing    355.41\n",
            "1    Sports    684.43   Sports    376.79        Action    161.43\n",
            "2   Shooter    592.24  Shooter    317.34        Sports    135.54\n",
            "3  Platform    445.50   Racing    236.51      Platform    130.83\n",
            "4      Misc    407.27     Misc    212.74          Misc    108.11\n",
            "\n",
            "Top 5 ESRB por región\n",
            "  na_rating  na_sales eu_rating  eu_sales jp_rating  jp_sales\n",
            "0         E   1292.99         E    710.25      none    841.93\n",
            "1      none   1240.68      none    613.30         E    198.11\n",
            "2         T    759.75         M    483.97         T    151.40\n",
            "3         M    748.48         T    427.03         M     64.24\n",
            "4      E10+    353.32      E10+    188.52      E10+     40.20\n"
          ]
        }
      ],
      "source": [
        "# Datos para América del Norte\n",
        "# Filtramos el DataFrame 'games' para quedarnos con los datos de América del Norte.\n",
        "\n",
        "na_individual_sales = games[games['na_sales']!=0]\n",
        "na_individual_sales = na_individual_sales.drop(columns=['eu_sales','jp_sales','other_sales','total_sales'])\n",
        "\n",
        "\n",
        "# Agrupamos por plataformas y buscamos el top 5.\n",
        "\n",
        "top_5_platform_na = (na_individual_sales\n",
        "                     .groupby('platform', as_index=False)['na_sales'].sum()\n",
        "                    )\n",
        "top_5_platform_na = top_5_platform_na.sort_values(by='na_sales', ascending=False)\n",
        "top_5_platform_na = top_5_platform_na.reset_index(drop=True)\n",
        "top_5_platform_na.rename({'platform':'na_platform'}, axis=1, inplace=True)\n",
        "na_plat = top_5_platform_na[:5]\n",
        "\n",
        "\n",
        "# Agrupamos por género y buscamos el top 5.\n",
        "\n",
        "top_5_genre_na = (na_individual_sales\n",
        "                  .groupby('genre', as_index=False)['na_sales'].sum()\n",
        "                 )\n",
        "top_5_genre_na = top_5_genre_na.sort_values(by='na_sales', ascending=False)\n",
        "top_5_genre_na = top_5_genre_na.reset_index(drop=True)\n",
        "top_5_genre_na.rename({'genre':'na_genre'}, axis=1, inplace=True)\n",
        "na_genre = top_5_genre_na[:5]\n",
        "\n",
        "\n",
        "# Agrupamos por calificación ESRB y buscamos el top 5.\n",
        "\n",
        "rating_na_sales = (na_individual_sales\n",
        "                  .groupby('rating', as_index=False)['na_sales'].sum()\n",
        "                  )\n",
        "rating_na_sales = rating_na_sales.sort_values(by='na_sales', ascending=False)\n",
        "rating_na_sales = rating_na_sales.reset_index(drop=True)\n",
        "rating_na_sales.rename({'rating':'na_rating'}, axis=1, inplace=True)\n",
        "na_rate = rating_na_sales[:5]\n",
        "\n",
        "\n",
        "# Datos para Europa\n",
        "# Filtramos el DataFrame 'games' para quedarnos con los datos de Europa.\n",
        "\n",
        "eu_individual_sales = games[games['eu_sales']!=0]\n",
        "eu_individual_sales = eu_individual_sales.drop(columns=['na_sales','jp_sales','other_sales','total_sales'])\n",
        "\n",
        "\n",
        "# Agrupamos por plataformas y buscamos el top 5.\n",
        "\n",
        "top_5_platform_eu = (eu_individual_sales\n",
        "                     .groupby('platform', as_index=False)['eu_sales'].sum()\n",
        "                    )\n",
        "top_5_platform_eu = top_5_platform_eu.sort_values(by='eu_sales', ascending=False)\n",
        "top_5_platform_eu = top_5_platform_eu.reset_index(drop=True)\n",
        "top_5_platform_eu.rename({'platform':'eu_platform'}, axis=1, inplace=True)\n",
        "eu_plat = top_5_platform_eu[:5]\n",
        "\n",
        "\n",
        "# Agrupamos por género y buscamos el top 5.\n",
        "\n",
        "top_5_genre_eu = (eu_individual_sales\n",
        "                  .groupby('genre', as_index=False)['eu_sales'].sum()\n",
        "                 )\n",
        "top_5_genre_eu = top_5_genre_eu.sort_values(by='eu_sales', ascending=False)\n",
        "top_5_genre_eu = top_5_genre_eu.reset_index(drop=True)\n",
        "top_5_genre_eu.rename({'genre':'eu_genre'}, axis=1, inplace=True)\n",
        "eu_genre = top_5_genre_eu[:5]\n",
        "\n",
        "\n",
        "# Agrupamos por calificación ESRB y buscamos el top 5.\n",
        "\n",
        "rating_eu_sales = (eu_individual_sales\n",
        "                  .groupby('rating', as_index=False)['eu_sales'].sum()\n",
        "                  )\n",
        "rating_eu_sales = rating_eu_sales.sort_values(by='eu_sales', ascending=False)\n",
        "rating_eu_sales = rating_eu_sales.reset_index(drop=True)\n",
        "rating_eu_sales.rename({'rating':'eu_rating'}, axis=1, inplace=True)\n",
        "eu_rate = rating_eu_sales[:5]\n",
        "\n",
        "\n",
        "# Datos para Japón\n",
        "# Filtramos el DataFrame 'games' para quedarnos con los datos de Japón.\n",
        "\n",
        "jp_individual_sales = games[games['jp_sales']!=0]\n",
        "jp_individual_sales = jp_individual_sales.drop(columns=['na_sales','eu_sales','other_sales','total_sales'])\n",
        "\n",
        "\n",
        "# Agrupamos por plataformas y buscamos el top 5.\n",
        "\n",
        "top_5_platform_jp = (jp_individual_sales\n",
        "                     .groupby('platform', as_index=False)['jp_sales'].sum()\n",
        "                    )\n",
        "top_5_platform_jp = top_5_platform_jp.sort_values(by='jp_sales', ascending=False)\n",
        "top_5_platform_jp = top_5_platform_jp.reset_index(drop=True)\n",
        "top_5_platform_jp.rename({'platform':'jp_platform'}, axis=1, inplace=True)\n",
        "jp_plat = top_5_platform_jp[:5]\n",
        "\n",
        "\n",
        "# Agrupamos por género y buscamos el top 5.\n",
        "\n",
        "top_5_genre_jp = (jp_individual_sales\n",
        "                  .groupby('genre', as_index=False)['jp_sales'].sum()\n",
        "                 )\n",
        "top_5_genre_jp = top_5_genre_jp.sort_values(by='jp_sales', ascending=False)\n",
        "top_5_genre_jp = top_5_genre_jp.reset_index(drop=True)\n",
        "top_5_genre_jp.rename({'genre':'jp_genre'}, axis=1, inplace=True)\n",
        "jp_genre = top_5_genre_jp[:5]\n",
        "\n",
        "\n",
        "# Agrupamos por calificación ESRB y buscamos el top 5.\n",
        "\n",
        "rating_jp_sales = (jp_individual_sales\n",
        "                  .groupby('rating', as_index=False)['jp_sales'].sum()\n",
        "                  )\n",
        "rating_jp_sales = rating_jp_sales.sort_values(by='jp_sales', ascending=False)\n",
        "rating_jp_sales = rating_jp_sales.reset_index(drop=True)\n",
        "rating_jp_sales.rename({'rating':'jp_rating'}, axis=1, inplace=True)\n",
        "jp_rate = rating_jp_sales[:5]\n",
        "\n",
        "\n",
        "# Concatenamos el top 5 de cada enfoque para todas las regiones.\n",
        "\n",
        "platforms = pd.concat([na_plat, eu_plat, jp_plat], axis='columns')\n",
        "print(\"Top 5 plataformas por región\")\n",
        "print(platforms)\n",
        "print()\n",
        "genres = pd.concat([na_genre, eu_genre, jp_genre], axis='columns')\n",
        "print(\"Top 5 géneros por región\")\n",
        "print(genres)\n",
        "print()\n",
        "ratings = pd.concat([na_rate, eu_rate, jp_rate], axis='columns')\n",
        "print(\"Top 5 ESRB por región\")\n",
        "print(ratings)\n",
        "\n",
        "\n"
      ]
    },
    {
      "cell_type": "markdown",
      "metadata": {
        "id": "Jvo-vo3BKJ3q"
      },
      "source": [
        "Comentarios de los perfiles de usuarios para cada región:\n",
        "En cuanto a las plataformas, el gusto varía mucho de una región a otra y cada una de ellas tiene su favorita.\n",
        "Para los géneros vemos que el género \"Action\" es querido por todas las regiones, solo en Japón prefieren el género \"Role-Playing\" antes que \"Action\".\n",
        "En el caso de las calificaciones \"ESRB\" sucede algo parecido que con los géneros, si omitimos los juegos sin calificación, vemos el mismo patrón en todas las regiones; 1.- \"E\", 2.- \"T\" y 3.- \"M\"."
      ]
    },
    {
      "cell_type": "markdown",
      "metadata": {
        "id": "Vr_D4va1KJ3q"
      },
      "source": [
        "Paso 5: Probamos las hipótesis"
      ]
    },
    {
      "cell_type": "code",
      "execution_count": null,
      "metadata": {
        "id": "ehuvLGw1KJ3q",
        "outputId": "50bdb128-240e-41b7-a301-d7de259e863d"
      },
      "outputs": [
        {
          "name": "stdout",
          "output_type": "stream",
          "text": [
            "La varianza de las calificaciones XOne y PC no son iguales\n",
            "H0 = Las calificaciones de los usuarios de las plataformas XOne y PC SI son iguales.\n",
            "H1 = Las calificaciones de los usuarios de las plataformas XOne y PC NO son iguales.\n",
            "El valor p es:  0.000693074614210073\n",
            "Rechazamos la hipótesis nula\n",
            "\n",
            "La varianza de las calificaciones Sports y Action no son iguales\n",
            "H0 = Las calificaciones de los usuarios de los géneros Sports y Action SI son iguales.\n",
            "H1 = Las calificaciones de los usuarios de los géneros Sports y Action NO son iguales.\n",
            "El valor p es:  2.6773232831042855e-13\n",
            "Rechazamos la hipótesis nula\n"
          ]
        }
      ],
      "source": [
        "# Prueba de hipótesis de las plataformas XOne y PC\n",
        "# Obtenemos las calificaciones de los usuarios para las plataformas XOne y PC.\n",
        "\n",
        "xone_user_scores = games[games['platform']=='XOne']['user_score']\n",
        "pc_user_scores = games[games['platform']=='PC']['user_score']\n",
        "\n",
        "\n",
        "# Revizamos si las varianzas de ambas muestras son iguales o no.\n",
        "\n",
        "alpha = 0.05\n",
        "p_value_levene = st.levene(xone_user_scores, pc_user_scores).pvalue\n",
        "if p_value_levene < alpha:\n",
        "    print('La varianza de las calificaciones XOne y PC no son iguales')\n",
        "else:\n",
        "    print('No hay suficiente evidencia para decir que la varianza de las calificaciones XOne y PC no son iguales')\n",
        "\n",
        "\n",
        "# Definimos las hipótesis nula y alternativa.\n",
        "\n",
        "print('H0 = Las calificaciones de los usuarios de las plataformas XOne y PC SI son iguales.')\n",
        "print('H1 = Las calificaciones de los usuarios de las plataformas XOne y PC NO son iguales.')\n",
        "\n",
        "\n",
        "# Realizamos una prueba T-Student para determinar si las medias de ambas muestras\n",
        "# están significativamente separadas una de la otra, considerando que las varianzas\n",
        "# de estas muestras no son iguales.\n",
        "\n",
        "result = st.ttest_ind(xone_user_scores, pc_user_scores, equal_var = False)\n",
        "\n",
        "\n",
        "#Mostramos el valor p obtenido de la anterior prueba.\n",
        "\n",
        "print('El valor p es: ', result.pvalue)\n",
        "\n",
        "\n",
        "#Decidimos si rechazamos o no la hipótesis nula.\n",
        "\n",
        "if result.pvalue < alpha:\n",
        "    print('Rechazamos la hipótesis nula')\n",
        "else:\n",
        "    print('No podemos rechazar la hipótesis nula')\n",
        "print()\n",
        "\n",
        "\n",
        "# Prueba de hipótesis de los géneros Sports y Action\n",
        "# Obtenemos las calificaciones de los usuarios para los géneros Sports y Action.\n",
        "\n",
        "sports_user_scores = games[games['genre']=='Sports']['user_score']\n",
        "action_user_scores = games[games['genre']=='Action']['user_score']\n",
        "\n",
        "\n",
        "# Revizamos si las varianzas de ambas muestras son iguales o no.\n",
        "\n",
        "p_value_levene_1 = st.levene(sports_user_scores, action_user_scores).pvalue\n",
        "if p_value_levene_1 < alpha:\n",
        "    print('La varianza de las calificaciones Sports y Action no son iguales')\n",
        "else:\n",
        "    print('No hay suficiente evidencia para decir que la varianza de las calificaciones Sports y Action no son iguales')\n",
        "\n",
        "\n",
        "# Definimos las hipótesis nula y alternativa.\n",
        "\n",
        "print('H0 = Las calificaciones de los usuarios de los géneros Sports y Action SI son iguales.')\n",
        "print('H1 = Las calificaciones de los usuarios de los géneros Sports y Action NO son iguales.')\n",
        "\n",
        "\n",
        "# Realizamos una prueba T-Student para determinar si las medias de ambas muestras\n",
        "# están significativamente separadas una de la otra, considerando que las varianzas\n",
        "# de estas muestras no son iguales.\n",
        "\n",
        "result_1 = st.ttest_ind(sports_user_scores, action_user_scores, equal_var = False)\n",
        "\n",
        "\n",
        "#Mostramos el valor p obtenido de la anterior prueba.\n",
        "\n",
        "print('El valor p es: ', result_1.pvalue)\n",
        "\n",
        "\n",
        "#Decidimos si rechazamos o no la hipótesis nula.\n",
        "\n",
        "if result_1.pvalue < alpha:\n",
        "    print('Rechazamos la hipótesis nula')\n",
        "else:\n",
        "    print('No podemos rechazar la hipótesis nula')\n",
        "\n",
        "#print(games['genre'].unique())\n"
      ]
    },
    {
      "cell_type": "markdown",
      "metadata": {
        "id": "I5KnA8iQKJ3q"
      },
      "source": [
        "Comentarios de las pruebas de hipótesis:\n",
        "Después de realizar pruebas de hipótesis \"T-Student\" de dos colas para comprobar si las medias de las calificaciones de ambas plataformas y generos son iguales o no, podemos comprobar que en efecto NO son iguales."
      ]
    },
    {
      "cell_type": "markdown",
      "metadata": {
        "id": "-6Vu3exaKJ3u"
      },
      "source": [
        "Paso 6: Concluimos"
      ]
    },
    {
      "cell_type": "markdown",
      "metadata": {
        "id": "iJ1FyZxWKJ3v"
      },
      "source": [
        "El acomodo de los valores fue clave para poder realizar los análisis y cálculos correspondientes.\n",
        "Al final del proyecto podemos decir que:\n",
        "-Las plataformas favoritas de los clientes son PS2, X360, PS3, Wii y DS, aunque varía la popularidad en cada una de las regiones.\n",
        "-Las plataformas tienen un auge de aproximadamente 10 años durante los cuales se alcanzan las mayores ventas en cada una de ellas.\n",
        "-Las calificaciones de los críticos influyen más en las ventas que las de los usuarios.\n",
        "-Los géneros favoritos \"Shooter\", \"Action\", \"Sports\", \"Misc\" y \"Role-playing\" aunque varía la popularidad de ellos dependiendo de la plataforma o la región.\n",
        "-En todas las regiones vemos el mismo patrón de preferencias por calificación \"ESRB\"; 1.- \"E\", 2.- \"T\" y 3.- \"M\".\n",
        "-Las calificaciones de los usuarios en las plataformas \"XOne\" y \"PC\" son diferentes, lo mismo para los géneros \"Sports\" y \"Action\"."
      ]
    }
  ],
  "metadata": {
    "ExecuteTimeLog": [
      {
        "duration": 237,
        "start_time": "2025-01-18T00:08:14.689Z"
      },
      {
        "duration": 3677,
        "start_time": "2025-01-18T00:08:25.002Z"
      },
      {
        "duration": 49,
        "start_time": "2025-01-18T00:08:28.684Z"
      },
      {
        "duration": 14,
        "start_time": "2025-01-18T00:08:28.735Z"
      },
      {
        "duration": 13,
        "start_time": "2025-01-18T00:10:00.328Z"
      },
      {
        "duration": 21,
        "start_time": "2025-01-18T00:16:48.706Z"
      },
      {
        "duration": 760,
        "start_time": "2025-01-18T00:25:32.973Z"
      },
      {
        "duration": 14,
        "start_time": "2025-01-18T00:27:58.287Z"
      },
      {
        "duration": 16,
        "start_time": "2025-01-18T00:28:07.150Z"
      },
      {
        "duration": 784,
        "start_time": "2025-01-18T00:39:09.500Z"
      },
      {
        "duration": 14,
        "start_time": "2025-01-18T00:39:10.286Z"
      },
      {
        "duration": 14,
        "start_time": "2025-01-18T00:39:23.452Z"
      },
      {
        "duration": 21,
        "start_time": "2025-01-18T00:45:32.604Z"
      },
      {
        "duration": 797,
        "start_time": "2025-01-18T00:46:00.690Z"
      },
      {
        "duration": 21,
        "start_time": "2025-01-18T00:46:01.489Z"
      },
      {
        "duration": 767,
        "start_time": "2025-01-18T00:59:11.721Z"
      },
      {
        "duration": 22,
        "start_time": "2025-01-18T00:59:12.490Z"
      },
      {
        "duration": 23,
        "start_time": "2025-01-18T01:00:09.867Z"
      },
      {
        "duration": 25,
        "start_time": "2025-01-18T01:00:29.913Z"
      },
      {
        "duration": 25,
        "start_time": "2025-01-18T01:01:08.883Z"
      },
      {
        "duration": 778,
        "start_time": "2025-01-18T01:01:24.202Z"
      },
      {
        "duration": 27,
        "start_time": "2025-01-18T01:01:24.982Z"
      },
      {
        "duration": 25,
        "start_time": "2025-01-18T01:04:00.917Z"
      },
      {
        "duration": 799,
        "start_time": "2025-01-18T01:05:54.674Z"
      },
      {
        "duration": 29,
        "start_time": "2025-01-18T01:05:55.476Z"
      },
      {
        "duration": 812,
        "start_time": "2025-01-18T01:07:14.834Z"
      },
      {
        "duration": 880,
        "start_time": "2025-01-18T01:18:17.601Z"
      },
      {
        "duration": 29,
        "start_time": "2025-01-18T01:18:18.485Z"
      },
      {
        "duration": 782,
        "start_time": "2025-01-18T01:19:05.935Z"
      },
      {
        "duration": 16,
        "start_time": "2025-01-18T01:19:06.720Z"
      },
      {
        "duration": 758,
        "start_time": "2025-01-18T01:20:13.619Z"
      },
      {
        "duration": 6,
        "start_time": "2025-01-18T01:20:14.379Z"
      },
      {
        "duration": 781,
        "start_time": "2025-01-18T01:20:26.019Z"
      },
      {
        "duration": 22,
        "start_time": "2025-01-18T01:20:26.802Z"
      },
      {
        "duration": 742,
        "start_time": "2025-01-18T01:21:11.939Z"
      },
      {
        "duration": 21,
        "start_time": "2025-01-18T01:21:12.683Z"
      },
      {
        "duration": 758,
        "start_time": "2025-01-18T01:21:50.321Z"
      },
      {
        "duration": 21,
        "start_time": "2025-01-18T01:21:51.081Z"
      },
      {
        "duration": 740,
        "start_time": "2025-01-18T01:23:18.944Z"
      },
      {
        "duration": 24,
        "start_time": "2025-01-18T01:23:19.686Z"
      },
      {
        "duration": 11,
        "start_time": "2025-01-18T01:24:50.829Z"
      },
      {
        "duration": 752,
        "start_time": "2025-01-18T01:25:22.623Z"
      },
      {
        "duration": 6,
        "start_time": "2025-01-18T01:25:23.376Z"
      },
      {
        "duration": 866,
        "start_time": "2025-01-18T01:25:48.601Z"
      },
      {
        "duration": 7,
        "start_time": "2025-01-18T01:25:49.470Z"
      },
      {
        "duration": 772,
        "start_time": "2025-01-18T01:26:56.840Z"
      },
      {
        "duration": 10,
        "start_time": "2025-01-18T01:26:57.615Z"
      },
      {
        "duration": 775,
        "start_time": "2025-01-18T01:27:27.300Z"
      },
      {
        "duration": 17,
        "start_time": "2025-01-18T01:27:28.078Z"
      },
      {
        "duration": 801,
        "start_time": "2025-01-18T01:35:02.285Z"
      },
      {
        "duration": 26,
        "start_time": "2025-01-18T01:35:03.089Z"
      },
      {
        "duration": 737,
        "start_time": "2025-01-18T01:35:51.841Z"
      },
      {
        "duration": 21,
        "start_time": "2025-01-18T01:35:52.580Z"
      },
      {
        "duration": 765,
        "start_time": "2025-01-18T01:37:49.111Z"
      },
      {
        "duration": 21,
        "start_time": "2025-01-18T01:37:49.878Z"
      },
      {
        "duration": 761,
        "start_time": "2025-01-18T01:38:48.453Z"
      },
      {
        "duration": 33,
        "start_time": "2025-01-18T01:38:49.216Z"
      },
      {
        "duration": 754,
        "start_time": "2025-01-18T01:43:33.323Z"
      },
      {
        "duration": 18,
        "start_time": "2025-01-18T01:43:34.080Z"
      },
      {
        "duration": 736,
        "start_time": "2025-01-18T01:49:21.347Z"
      },
      {
        "duration": 35,
        "start_time": "2025-01-18T01:49:22.085Z"
      },
      {
        "duration": 784,
        "start_time": "2025-01-18T01:57:49.993Z"
      },
      {
        "duration": 34,
        "start_time": "2025-01-18T01:57:50.779Z"
      },
      {
        "duration": 766,
        "start_time": "2025-01-18T02:02:25.425Z"
      },
      {
        "duration": 34,
        "start_time": "2025-01-18T02:02:26.193Z"
      },
      {
        "duration": 807,
        "start_time": "2025-01-18T02:10:05.804Z"
      },
      {
        "duration": 37,
        "start_time": "2025-01-18T02:10:06.613Z"
      },
      {
        "duration": 37,
        "start_time": "2025-01-18T02:10:27.183Z"
      },
      {
        "duration": 796,
        "start_time": "2025-01-18T02:11:23.078Z"
      },
      {
        "duration": 42,
        "start_time": "2025-01-18T02:11:23.876Z"
      },
      {
        "duration": 2864,
        "start_time": "2025-01-18T18:17:51.084Z"
      },
      {
        "duration": 46,
        "start_time": "2025-01-18T18:17:53.951Z"
      },
      {
        "duration": 4,
        "start_time": "2025-01-18T18:43:55.674Z"
      },
      {
        "duration": 3,
        "start_time": "2025-01-18T18:44:07.923Z"
      },
      {
        "duration": 211,
        "start_time": "2025-01-18T18:44:16.013Z"
      },
      {
        "duration": 4,
        "start_time": "2025-01-18T18:44:31.780Z"
      },
      {
        "duration": 11,
        "start_time": "2025-01-18T18:50:21.616Z"
      },
      {
        "duration": 10,
        "start_time": "2025-01-18T18:50:37.749Z"
      },
      {
        "duration": 164,
        "start_time": "2025-01-18T18:59:41.853Z"
      },
      {
        "duration": 161,
        "start_time": "2025-01-18T18:59:57.986Z"
      },
      {
        "duration": 157,
        "start_time": "2025-01-18T19:09:27.629Z"
      },
      {
        "duration": 13,
        "start_time": "2025-01-18T19:10:50.891Z"
      },
      {
        "duration": 805,
        "start_time": "2025-01-18T19:11:36.595Z"
      },
      {
        "duration": 45,
        "start_time": "2025-01-18T19:11:37.403Z"
      },
      {
        "duration": 167,
        "start_time": "2025-01-18T19:11:37.450Z"
      },
      {
        "duration": 12,
        "start_time": "2025-01-18T19:11:37.620Z"
      },
      {
        "duration": 12,
        "start_time": "2025-01-18T19:12:10.072Z"
      },
      {
        "duration": 11,
        "start_time": "2025-01-18T19:14:26.762Z"
      },
      {
        "duration": 13,
        "start_time": "2025-01-18T19:14:58.885Z"
      },
      {
        "duration": 738,
        "start_time": "2025-01-18T19:38:24.365Z"
      },
      {
        "duration": 46,
        "start_time": "2025-01-18T19:38:25.105Z"
      },
      {
        "duration": 171,
        "start_time": "2025-01-18T19:38:25.152Z"
      },
      {
        "duration": 229,
        "start_time": "2025-01-18T19:38:25.325Z"
      },
      {
        "duration": 209,
        "start_time": "2025-01-18T19:39:05.312Z"
      },
      {
        "duration": 258,
        "start_time": "2025-01-18T19:42:32.274Z"
      },
      {
        "duration": 210,
        "start_time": "2025-01-18T19:42:40.155Z"
      },
      {
        "duration": 224,
        "start_time": "2025-01-18T19:42:53.051Z"
      },
      {
        "duration": 216,
        "start_time": "2025-01-18T19:43:16.560Z"
      },
      {
        "duration": 220,
        "start_time": "2025-01-18T19:53:29.247Z"
      },
      {
        "duration": 223,
        "start_time": "2025-01-18T20:06:22.906Z"
      },
      {
        "duration": 280,
        "start_time": "2025-01-18T20:15:04.442Z"
      },
      {
        "duration": 333,
        "start_time": "2025-01-18T20:15:23.919Z"
      },
      {
        "duration": 221,
        "start_time": "2025-01-18T20:16:08.425Z"
      },
      {
        "duration": 218,
        "start_time": "2025-01-18T20:17:18.146Z"
      },
      {
        "duration": 229,
        "start_time": "2025-01-18T20:20:03.037Z"
      },
      {
        "duration": 222,
        "start_time": "2025-01-18T20:22:37.472Z"
      },
      {
        "duration": 291,
        "start_time": "2025-01-18T20:24:13.666Z"
      },
      {
        "duration": 215,
        "start_time": "2025-01-18T20:27:35.076Z"
      },
      {
        "duration": 6,
        "start_time": "2025-01-18T20:28:16.209Z"
      },
      {
        "duration": 217,
        "start_time": "2025-01-18T20:28:24.745Z"
      },
      {
        "duration": 215,
        "start_time": "2025-01-18T20:35:12.738Z"
      },
      {
        "duration": 237,
        "start_time": "2025-01-18T20:36:10.535Z"
      },
      {
        "duration": 222,
        "start_time": "2025-01-18T20:37:18.611Z"
      },
      {
        "duration": 295,
        "start_time": "2025-01-18T20:38:15.925Z"
      },
      {
        "duration": 219,
        "start_time": "2025-01-18T20:38:52.726Z"
      },
      {
        "duration": 782,
        "start_time": "2025-01-18T20:44:46.098Z"
      },
      {
        "duration": 423,
        "start_time": "2025-01-18T20:46:08.706Z"
      },
      {
        "duration": 774,
        "start_time": "2025-01-18T20:52:46.722Z"
      },
      {
        "duration": 46,
        "start_time": "2025-01-18T20:52:47.498Z"
      },
      {
        "duration": 180,
        "start_time": "2025-01-18T20:52:47.546Z"
      },
      {
        "duration": 243,
        "start_time": "2025-01-18T20:52:47.728Z"
      },
      {
        "duration": 4,
        "start_time": "2025-01-18T20:52:47.973Z"
      },
      {
        "duration": 782,
        "start_time": "2025-01-18T20:55:15.923Z"
      },
      {
        "duration": 47,
        "start_time": "2025-01-18T20:55:16.707Z"
      },
      {
        "duration": 178,
        "start_time": "2025-01-18T20:55:16.756Z"
      },
      {
        "duration": 360,
        "start_time": "2025-01-18T20:55:16.936Z"
      },
      {
        "duration": 3,
        "start_time": "2025-01-18T20:55:17.298Z"
      },
      {
        "duration": 391,
        "start_time": "2025-01-18T20:55:56.126Z"
      },
      {
        "duration": 337,
        "start_time": "2025-01-18T20:56:23.745Z"
      },
      {
        "duration": 353,
        "start_time": "2025-01-18T20:57:07.143Z"
      },
      {
        "duration": 425,
        "start_time": "2025-01-18T20:58:55.673Z"
      },
      {
        "duration": 391,
        "start_time": "2025-01-18T20:59:41.041Z"
      },
      {
        "duration": 823,
        "start_time": "2025-01-18T21:01:12.501Z"
      },
      {
        "duration": 45,
        "start_time": "2025-01-18T21:01:13.326Z"
      },
      {
        "duration": 176,
        "start_time": "2025-01-18T21:01:13.373Z"
      },
      {
        "duration": 401,
        "start_time": "2025-01-18T21:01:13.551Z"
      },
      {
        "duration": 4,
        "start_time": "2025-01-18T21:01:13.953Z"
      },
      {
        "duration": 797,
        "start_time": "2025-01-18T21:05:25.295Z"
      },
      {
        "duration": 46,
        "start_time": "2025-01-18T21:05:26.093Z"
      },
      {
        "duration": 177,
        "start_time": "2025-01-18T21:05:26.141Z"
      },
      {
        "duration": 481,
        "start_time": "2025-01-18T21:05:26.319Z"
      },
      {
        "duration": 415,
        "start_time": "2025-01-18T21:05:46.963Z"
      },
      {
        "duration": 10,
        "start_time": "2025-01-18T21:06:55.225Z"
      },
      {
        "duration": 1065,
        "start_time": "2025-01-18T21:07:07.452Z"
      },
      {
        "duration": 393,
        "start_time": "2025-01-18T21:07:51.606Z"
      },
      {
        "duration": 739,
        "start_time": "2025-01-18T21:07:59.055Z"
      },
      {
        "duration": 47,
        "start_time": "2025-01-18T21:07:59.796Z"
      },
      {
        "duration": 172,
        "start_time": "2025-01-18T21:07:59.845Z"
      },
      {
        "duration": 1061,
        "start_time": "2025-01-18T21:08:00.019Z"
      },
      {
        "duration": 409,
        "start_time": "2025-01-18T21:08:34.650Z"
      },
      {
        "duration": 430,
        "start_time": "2025-01-18T21:10:35.279Z"
      },
      {
        "duration": 428,
        "start_time": "2025-01-18T21:10:57.433Z"
      },
      {
        "duration": 513,
        "start_time": "2025-01-18T21:11:09.775Z"
      },
      {
        "duration": 422,
        "start_time": "2025-01-18T21:13:22.413Z"
      },
      {
        "duration": 423,
        "start_time": "2025-01-18T21:14:15.701Z"
      },
      {
        "duration": 416,
        "start_time": "2025-01-18T21:14:41.914Z"
      },
      {
        "duration": 509,
        "start_time": "2025-01-18T21:15:47.215Z"
      },
      {
        "duration": 421,
        "start_time": "2025-01-18T21:16:29.698Z"
      },
      {
        "duration": 409,
        "start_time": "2025-01-18T21:17:39.561Z"
      },
      {
        "duration": 402,
        "start_time": "2025-01-18T21:18:08.266Z"
      },
      {
        "duration": 529,
        "start_time": "2025-01-18T21:18:32.415Z"
      },
      {
        "duration": 767,
        "start_time": "2025-01-18T21:21:50.537Z"
      },
      {
        "duration": 45,
        "start_time": "2025-01-18T21:21:51.306Z"
      },
      {
        "duration": 174,
        "start_time": "2025-01-18T21:21:51.354Z"
      },
      {
        "duration": 412,
        "start_time": "2025-01-18T21:21:51.530Z"
      },
      {
        "duration": 464,
        "start_time": "2025-01-18T21:22:27.035Z"
      },
      {
        "duration": 397,
        "start_time": "2025-01-18T21:22:44.067Z"
      },
      {
        "duration": 396,
        "start_time": "2025-01-18T21:26:39.084Z"
      },
      {
        "duration": 2556,
        "start_time": "2025-01-21T00:27:47.278Z"
      },
      {
        "duration": 47,
        "start_time": "2025-01-21T00:27:49.837Z"
      },
      {
        "duration": 162,
        "start_time": "2025-01-21T00:27:49.886Z"
      },
      {
        "duration": 427,
        "start_time": "2025-01-21T00:27:50.051Z"
      },
      {
        "duration": 802,
        "start_time": "2025-01-21T00:33:56.164Z"
      },
      {
        "duration": 49,
        "start_time": "2025-01-21T00:33:56.968Z"
      },
      {
        "duration": 179,
        "start_time": "2025-01-21T00:33:57.018Z"
      },
      {
        "duration": 424,
        "start_time": "2025-01-21T00:33:57.200Z"
      },
      {
        "duration": 5,
        "start_time": "2025-01-21T00:39:42.380Z"
      },
      {
        "duration": 5,
        "start_time": "2025-01-21T00:40:53.819Z"
      },
      {
        "duration": 5,
        "start_time": "2025-01-21T00:43:25.388Z"
      },
      {
        "duration": 3,
        "start_time": "2025-01-21T00:44:51.064Z"
      },
      {
        "duration": 5,
        "start_time": "2025-01-21T00:44:56.161Z"
      },
      {
        "duration": 9,
        "start_time": "2025-01-21T00:50:28.933Z"
      },
      {
        "duration": 139,
        "start_time": "2025-01-21T01:05:01.534Z"
      },
      {
        "duration": 117,
        "start_time": "2025-01-21T01:05:18.368Z"
      },
      {
        "duration": 217,
        "start_time": "2025-01-21T01:05:28.687Z"
      },
      {
        "duration": 118,
        "start_time": "2025-01-21T01:05:34.177Z"
      },
      {
        "duration": 188,
        "start_time": "2025-01-21T01:05:51.263Z"
      },
      {
        "duration": 168,
        "start_time": "2025-01-21T01:10:49.560Z"
      },
      {
        "duration": 20,
        "start_time": "2025-01-21T01:11:40.047Z"
      },
      {
        "duration": 189,
        "start_time": "2025-01-21T01:11:50.237Z"
      },
      {
        "duration": 227,
        "start_time": "2025-01-21T01:13:33.126Z"
      },
      {
        "duration": 758,
        "start_time": "2025-01-21T01:20:24.352Z"
      },
      {
        "duration": 46,
        "start_time": "2025-01-21T01:20:25.113Z"
      },
      {
        "duration": 165,
        "start_time": "2025-01-21T01:20:25.169Z"
      },
      {
        "duration": 478,
        "start_time": "2025-01-21T01:20:25.336Z"
      },
      {
        "duration": 181,
        "start_time": "2025-01-21T01:20:25.816Z"
      },
      {
        "duration": 801,
        "start_time": "2025-01-21T01:30:11.209Z"
      },
      {
        "duration": 46,
        "start_time": "2025-01-21T01:30:12.013Z"
      },
      {
        "duration": 174,
        "start_time": "2025-01-21T01:30:12.060Z"
      },
      {
        "duration": 483,
        "start_time": "2025-01-21T01:30:12.236Z"
      },
      {
        "duration": 425,
        "start_time": "2025-01-21T01:30:12.721Z"
      },
      {
        "duration": 769,
        "start_time": "2025-01-21T01:32:08.440Z"
      },
      {
        "duration": 45,
        "start_time": "2025-01-21T01:32:09.211Z"
      },
      {
        "duration": 172,
        "start_time": "2025-01-21T01:32:09.258Z"
      },
      {
        "duration": 470,
        "start_time": "2025-01-21T01:32:09.433Z"
      },
      {
        "duration": 229,
        "start_time": "2025-01-21T01:32:09.905Z"
      },
      {
        "duration": 822,
        "start_time": "2025-01-21T01:33:10.205Z"
      },
      {
        "duration": 50,
        "start_time": "2025-01-21T01:33:11.029Z"
      },
      {
        "duration": 172,
        "start_time": "2025-01-21T01:33:11.080Z"
      },
      {
        "duration": 460,
        "start_time": "2025-01-21T01:33:11.254Z"
      },
      {
        "duration": 252,
        "start_time": "2025-01-21T01:33:11.715Z"
      },
      {
        "duration": 180,
        "start_time": "2025-01-21T01:33:20.059Z"
      },
      {
        "duration": 186,
        "start_time": "2025-01-21T01:35:18.797Z"
      },
      {
        "duration": 180,
        "start_time": "2025-01-21T01:36:04.603Z"
      },
      {
        "duration": 180,
        "start_time": "2025-01-21T01:36:56.146Z"
      },
      {
        "duration": 187,
        "start_time": "2025-01-21T01:37:36.710Z"
      },
      {
        "duration": 184,
        "start_time": "2025-01-21T01:38:22.288Z"
      },
      {
        "duration": 183,
        "start_time": "2025-01-21T01:38:48.041Z"
      },
      {
        "duration": 185,
        "start_time": "2025-01-21T01:40:04.959Z"
      },
      {
        "duration": 188,
        "start_time": "2025-01-21T01:44:44.597Z"
      },
      {
        "duration": 253,
        "start_time": "2025-01-21T01:45:08.458Z"
      },
      {
        "duration": 7,
        "start_time": "2025-01-21T01:52:09.302Z"
      },
      {
        "duration": 130,
        "start_time": "2025-01-21T01:56:24.563Z"
      },
      {
        "duration": 680,
        "start_time": "2025-01-21T02:01:00.923Z"
      },
      {
        "duration": 136,
        "start_time": "2025-01-21T02:02:38.578Z"
      },
      {
        "duration": 134,
        "start_time": "2025-01-21T02:05:23.171Z"
      },
      {
        "duration": 141,
        "start_time": "2025-01-21T02:06:00.452Z"
      },
      {
        "duration": 134,
        "start_time": "2025-01-21T02:06:43.285Z"
      },
      {
        "duration": 133,
        "start_time": "2025-01-21T02:07:12.950Z"
      },
      {
        "duration": 249,
        "start_time": "2025-01-21T02:11:24.260Z"
      },
      {
        "duration": 8,
        "start_time": "2025-01-21T02:36:13.182Z"
      },
      {
        "duration": 9,
        "start_time": "2025-01-21T02:37:02.949Z"
      },
      {
        "duration": 24,
        "start_time": "2025-01-21T02:45:16.189Z"
      },
      {
        "duration": 22,
        "start_time": "2025-01-21T02:45:26.980Z"
      },
      {
        "duration": 12,
        "start_time": "2025-01-21T02:45:33.263Z"
      },
      {
        "duration": 772,
        "start_time": "2025-01-21T02:47:03.935Z"
      },
      {
        "duration": 45,
        "start_time": "2025-01-21T02:47:04.709Z"
      },
      {
        "duration": 170,
        "start_time": "2025-01-21T02:47:04.755Z"
      },
      {
        "duration": 464,
        "start_time": "2025-01-21T02:47:04.927Z"
      },
      {
        "duration": 194,
        "start_time": "2025-01-21T02:47:05.394Z"
      },
      {
        "duration": 258,
        "start_time": "2025-01-21T02:47:05.590Z"
      },
      {
        "duration": 24,
        "start_time": "2025-01-21T02:47:05.850Z"
      },
      {
        "duration": 12,
        "start_time": "2025-01-21T02:47:26.841Z"
      },
      {
        "duration": 12,
        "start_time": "2025-01-21T02:47:55.077Z"
      },
      {
        "duration": 12,
        "start_time": "2025-01-21T02:48:06.622Z"
      },
      {
        "duration": 15,
        "start_time": "2025-01-21T02:48:21.603Z"
      },
      {
        "duration": 13,
        "start_time": "2025-01-21T02:49:00.778Z"
      },
      {
        "duration": 19,
        "start_time": "2025-01-21T02:51:14.624Z"
      },
      {
        "duration": 24,
        "start_time": "2025-01-21T02:52:45.275Z"
      },
      {
        "duration": 25,
        "start_time": "2025-01-21T02:55:36.992Z"
      },
      {
        "duration": 24,
        "start_time": "2025-01-21T03:01:34.707Z"
      },
      {
        "duration": 24,
        "start_time": "2025-01-21T03:03:22.398Z"
      },
      {
        "duration": 8,
        "start_time": "2025-01-21T03:07:47.015Z"
      },
      {
        "duration": 133,
        "start_time": "2025-01-21T03:11:04.439Z"
      },
      {
        "duration": 146,
        "start_time": "2025-01-21T03:11:16.039Z"
      },
      {
        "duration": 301,
        "start_time": "2025-01-21T03:16:12.286Z"
      },
      {
        "duration": 299,
        "start_time": "2025-01-21T03:20:24.805Z"
      },
      {
        "duration": 390,
        "start_time": "2025-01-21T03:21:06.008Z"
      },
      {
        "duration": 814,
        "start_time": "2025-01-21T03:21:53.936Z"
      },
      {
        "duration": 48,
        "start_time": "2025-01-21T03:21:54.752Z"
      },
      {
        "duration": 166,
        "start_time": "2025-01-21T03:21:54.802Z"
      },
      {
        "duration": 465,
        "start_time": "2025-01-21T03:21:54.970Z"
      },
      {
        "duration": 192,
        "start_time": "2025-01-21T03:21:55.438Z"
      },
      {
        "duration": 265,
        "start_time": "2025-01-21T03:21:55.632Z"
      },
      {
        "duration": 25,
        "start_time": "2025-01-21T03:21:55.900Z"
      },
      {
        "duration": 342,
        "start_time": "2025-01-21T03:21:55.928Z"
      },
      {
        "duration": 778,
        "start_time": "2025-01-21T03:22:31.956Z"
      },
      {
        "duration": 51,
        "start_time": "2025-01-21T03:22:32.736Z"
      },
      {
        "duration": 169,
        "start_time": "2025-01-21T03:22:32.789Z"
      },
      {
        "duration": 460,
        "start_time": "2025-01-21T03:22:32.960Z"
      },
      {
        "duration": 194,
        "start_time": "2025-01-21T03:22:33.422Z"
      },
      {
        "duration": 261,
        "start_time": "2025-01-21T03:22:33.618Z"
      },
      {
        "duration": 24,
        "start_time": "2025-01-21T03:22:33.881Z"
      },
      {
        "duration": 345,
        "start_time": "2025-01-21T03:22:33.907Z"
      },
      {
        "duration": 362,
        "start_time": "2025-01-21T03:26:16.110Z"
      },
      {
        "duration": 324,
        "start_time": "2025-01-21T03:26:55.070Z"
      },
      {
        "duration": 401,
        "start_time": "2025-01-21T03:27:33.927Z"
      },
      {
        "duration": 360,
        "start_time": "2025-01-21T03:29:14.033Z"
      },
      {
        "duration": 2512,
        "start_time": "2025-01-24T00:21:46.475Z"
      },
      {
        "duration": 45,
        "start_time": "2025-01-24T00:21:48.989Z"
      },
      {
        "duration": 158,
        "start_time": "2025-01-24T00:21:49.036Z"
      },
      {
        "duration": 407,
        "start_time": "2025-01-24T00:21:49.197Z"
      },
      {
        "duration": 193,
        "start_time": "2025-01-24T00:21:49.606Z"
      },
      {
        "duration": 319,
        "start_time": "2025-01-24T00:21:49.801Z"
      },
      {
        "duration": 25,
        "start_time": "2025-01-24T00:21:50.122Z"
      },
      {
        "duration": 381,
        "start_time": "2025-01-24T00:21:50.149Z"
      },
      {
        "duration": 215,
        "start_time": "2025-01-24T00:27:30.588Z"
      },
      {
        "duration": 19,
        "start_time": "2025-01-24T00:27:37.825Z"
      },
      {
        "duration": 14,
        "start_time": "2025-01-24T00:30:10.764Z"
      },
      {
        "duration": 372,
        "start_time": "2025-01-24T00:34:34.453Z"
      },
      {
        "duration": 14,
        "start_time": "2025-01-24T00:34:59.793Z"
      },
      {
        "duration": 14,
        "start_time": "2025-01-24T00:36:08.217Z"
      },
      {
        "duration": 15,
        "start_time": "2025-01-24T00:38:06.705Z"
      },
      {
        "duration": 14,
        "start_time": "2025-01-24T00:38:58.613Z"
      },
      {
        "duration": 17,
        "start_time": "2025-01-24T00:40:22.496Z"
      },
      {
        "duration": 20,
        "start_time": "2025-01-24T00:41:43.664Z"
      },
      {
        "duration": 32,
        "start_time": "2025-01-24T00:48:49.409Z"
      },
      {
        "duration": 28,
        "start_time": "2025-01-24T00:50:28.967Z"
      },
      {
        "duration": 29,
        "start_time": "2025-01-24T00:50:45.799Z"
      },
      {
        "duration": 29,
        "start_time": "2025-01-24T00:50:54.566Z"
      },
      {
        "duration": 44,
        "start_time": "2025-01-24T00:54:26.202Z"
      },
      {
        "duration": 38,
        "start_time": "2025-01-24T00:54:41.459Z"
      },
      {
        "duration": 38,
        "start_time": "2025-01-24T00:55:02.255Z"
      },
      {
        "duration": 37,
        "start_time": "2025-01-24T00:55:14.733Z"
      },
      {
        "duration": 36,
        "start_time": "2025-01-24T01:00:46.487Z"
      },
      {
        "duration": 37,
        "start_time": "2025-01-24T01:01:20.159Z"
      },
      {
        "duration": 34,
        "start_time": "2025-01-24T01:01:34.455Z"
      },
      {
        "duration": 12,
        "start_time": "2025-01-24T01:13:47.528Z"
      },
      {
        "duration": 851,
        "start_time": "2025-01-24T01:17:49.069Z"
      },
      {
        "duration": 55,
        "start_time": "2025-01-24T01:17:49.922Z"
      },
      {
        "duration": 173,
        "start_time": "2025-01-24T01:17:49.979Z"
      },
      {
        "duration": 469,
        "start_time": "2025-01-24T01:17:50.155Z"
      },
      {
        "duration": 200,
        "start_time": "2025-01-24T01:17:50.627Z"
      },
      {
        "duration": 264,
        "start_time": "2025-01-24T01:17:50.829Z"
      },
      {
        "duration": 34,
        "start_time": "2025-01-24T01:17:51.096Z"
      },
      {
        "duration": 374,
        "start_time": "2025-01-24T01:17:51.132Z"
      },
      {
        "duration": 43,
        "start_time": "2025-01-24T01:17:51.511Z"
      },
      {
        "duration": 42,
        "start_time": "2025-01-24T01:20:51.274Z"
      },
      {
        "duration": 44,
        "start_time": "2025-01-24T01:21:27.246Z"
      },
      {
        "duration": 2608,
        "start_time": "2025-01-24T23:31:03.985Z"
      },
      {
        "duration": 47,
        "start_time": "2025-01-24T23:31:06.595Z"
      },
      {
        "duration": 174,
        "start_time": "2025-01-24T23:31:06.644Z"
      },
      {
        "duration": 452,
        "start_time": "2025-01-24T23:31:06.821Z"
      },
      {
        "duration": 197,
        "start_time": "2025-01-24T23:31:07.275Z"
      },
      {
        "duration": 313,
        "start_time": "2025-01-24T23:31:07.474Z"
      },
      {
        "duration": 24,
        "start_time": "2025-01-24T23:31:07.790Z"
      },
      {
        "duration": 393,
        "start_time": "2025-01-24T23:31:07.816Z"
      },
      {
        "duration": 40,
        "start_time": "2025-01-24T23:31:08.212Z"
      },
      {
        "duration": 39,
        "start_time": "2025-01-24T23:34:11.608Z"
      },
      {
        "duration": 36,
        "start_time": "2025-01-24T23:34:38.200Z"
      },
      {
        "duration": 40,
        "start_time": "2025-01-24T23:40:02.529Z"
      },
      {
        "duration": 41,
        "start_time": "2025-01-24T23:41:15.997Z"
      },
      {
        "duration": 39,
        "start_time": "2025-01-24T23:44:24.854Z"
      },
      {
        "duration": 48,
        "start_time": "2025-01-24T23:46:36.558Z"
      },
      {
        "duration": 262,
        "start_time": "2025-01-24T23:51:31.205Z"
      },
      {
        "duration": 102,
        "start_time": "2025-01-24T23:52:54.752Z"
      },
      {
        "duration": 4,
        "start_time": "2025-01-25T00:09:58.794Z"
      },
      {
        "duration": 7,
        "start_time": "2025-01-25T00:16:08.189Z"
      },
      {
        "duration": 6,
        "start_time": "2025-01-25T00:16:17.873Z"
      },
      {
        "duration": 5,
        "start_time": "2025-01-25T00:16:36.487Z"
      },
      {
        "duration": 259,
        "start_time": "2025-01-25T00:18:08.002Z"
      },
      {
        "duration": 6,
        "start_time": "2025-01-25T00:18:33.198Z"
      },
      {
        "duration": 4,
        "start_time": "2025-01-25T00:24:21.855Z"
      },
      {
        "duration": 20,
        "start_time": "2025-01-25T00:24:31.653Z"
      },
      {
        "duration": 791,
        "start_time": "2025-01-25T00:25:02.124Z"
      },
      {
        "duration": 47,
        "start_time": "2025-01-25T00:25:02.917Z"
      },
      {
        "duration": 169,
        "start_time": "2025-01-25T00:25:02.970Z"
      },
      {
        "duration": 465,
        "start_time": "2025-01-25T00:25:03.141Z"
      },
      {
        "duration": 196,
        "start_time": "2025-01-25T00:25:03.608Z"
      },
      {
        "duration": 267,
        "start_time": "2025-01-25T00:25:03.805Z"
      },
      {
        "duration": 24,
        "start_time": "2025-01-25T00:25:04.074Z"
      },
      {
        "duration": 383,
        "start_time": "2025-01-25T00:25:04.100Z"
      },
      {
        "duration": 45,
        "start_time": "2025-01-25T00:25:04.486Z"
      },
      {
        "duration": 240,
        "start_time": "2025-01-25T00:25:04.533Z"
      },
      {
        "duration": 8,
        "start_time": "2025-01-25T00:25:28.832Z"
      },
      {
        "duration": 9,
        "start_time": "2025-01-25T00:39:52.422Z"
      },
      {
        "duration": 9,
        "start_time": "2025-01-25T00:42:13.201Z"
      },
      {
        "duration": 12,
        "start_time": "2025-01-25T00:43:45.412Z"
      },
      {
        "duration": 15,
        "start_time": "2025-01-25T00:49:15.230Z"
      },
      {
        "duration": 7,
        "start_time": "2025-01-25T15:11:45.615Z"
      }
    ],
    "kernelspec": {
      "display_name": "Python 3 (ipykernel)",
      "language": "python",
      "name": "python3"
    },
    "language_info": {
      "codemirror_mode": {
        "name": "ipython",
        "version": 3
      },
      "file_extension": ".py",
      "mimetype": "text/x-python",
      "name": "python",
      "nbconvert_exporter": "python",
      "pygments_lexer": "ipython3",
      "version": "3.9.19"
    },
    "toc": {
      "base_numbering": 1,
      "nav_menu": {},
      "number_sections": true,
      "sideBar": true,
      "skip_h1_title": true,
      "title_cell": "Table of Contents",
      "title_sidebar": "Contents",
      "toc_cell": false,
      "toc_position": {},
      "toc_section_display": true,
      "toc_window_display": false
    },
    "colab": {
      "provenance": []
    }
  },
  "nbformat": 4,
  "nbformat_minor": 0
}